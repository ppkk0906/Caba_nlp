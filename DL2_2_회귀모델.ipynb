{
  "nbformat": 4,
  "nbformat_minor": 0,
  "metadata": {
    "language_info": {
      "codemirror_mode": {
        "name": "ipython",
        "version": 3
      },
      "file_extension": ".py",
      "mimetype": "text/x-python",
      "name": "python",
      "nbconvert_exporter": "python",
      "pygments_lexer": "ipython3",
      "version": "3.7.9-final"
    },
    "orig_nbformat": 2,
    "kernelspec": {
      "name": "python3",
      "display_name": "Python 3.7.9 64-bit ('python37': conda)",
      "metadata": {
        "interpreter": {
          "hash": "3fb1c8fbbd2100757d8c96181345391f8ea77f90fef690deaf3e5179cd278248"
        }
      }
    },
    "colab": {
      "name": "DL2_2_회귀모델.ipynb",
      "provenance": [],
      "collapsed_sections": [],
      "include_colab_link": true
    },
    "accelerator": "GPU"
  },
  "cells": [
    {
      "cell_type": "markdown",
      "metadata": {
        "id": "view-in-github",
        "colab_type": "text"
      },
      "source": [
        "<a href=\"https://colab.research.google.com/github/ppkk0906/Caba_nlp/blob/main/DL2_2_%ED%9A%8C%EA%B7%80%EB%AA%A8%EB%8D%B8.ipynb\" target=\"_parent\"><img src=\"https://colab.research.google.com/assets/colab-badge.svg\" alt=\"Open In Colab\"/></a>"
      ]
    },
    {
      "cell_type": "markdown",
      "metadata": {
        "id": "e5mqVNFbIEqf"
      },
      "source": [
        "## 보스턴 주택가격 예측"
      ]
    },
    {
      "cell_type": "code",
      "metadata": {
        "colab": {
          "base_uri": "https://localhost:8080/"
        },
        "id": "TGzjxyodIEqj",
        "outputId": "2997b9c8-0f98-416b-9492-01f7d8eb2c52"
      },
      "source": [
        "from keras.datasets import boston_housing\n",
        "from keras import models, layers\n",
        "import numpy as np\n",
        "(train_data, train_target), (test_data, test_target) = boston_housing.load_data()"
      ],
      "execution_count": 1,
      "outputs": [
        {
          "output_type": "stream",
          "text": [
            "Downloading data from https://storage.googleapis.com/tensorflow/tf-keras-datasets/boston_housing.npz\n",
            "57344/57026 [==============================] - 0s 0us/step\n"
          ],
          "name": "stdout"
        }
      ]
    },
    {
      "cell_type": "markdown",
      "metadata": {
        "id": "86Jm-bjRIEqk"
      },
      "source": [
        "## 데이터 준비\n",
        "상이한 스케일을 거진 값을 신경망에 주입하면 문제가 된다  \n",
        "따라서 정규화를 한다. 정규화는 평균을 뺀 뒤 표준편차로 나누면 된다,  \n"
      ]
    },
    {
      "cell_type": "code",
      "metadata": {
        "id": "WWAfAP1oIEql"
      },
      "source": [
        "mean = train_data.mean(axis=0)\n",
        "train_data -= mean\n",
        "std = train_data.std(axis=0)\n",
        "train_data /= std\n",
        "test_data -= mean\n",
        "test_data /= std"
      ],
      "execution_count": 2,
      "outputs": []
    },
    {
      "cell_type": "code",
      "metadata": {
        "colab": {
          "base_uri": "https://localhost:8080/"
        },
        "id": "c6gKQcqBIEql",
        "outputId": "08b0a1c0-d352-4b5b-c454-2ec35c6b454b"
      },
      "source": [
        "train_data[1]"
      ],
      "execution_count": 3,
      "outputs": [
        {
          "output_type": "execute_result",
          "data": {
            "text/plain": [
              "array([-0.40342651,  2.99178419, -1.33391162, -0.25683275, -1.21518188,\n",
              "        1.89434613, -1.91036058,  1.24758524, -0.85646254, -0.34843254,\n",
              "       -1.71818909,  0.43190599, -1.32920239])"
            ]
          },
          "metadata": {
            "tags": []
          },
          "execution_count": 3
        }
      ]
    },
    {
      "cell_type": "markdown",
      "metadata": {
        "id": "v4lQrKfmIEql"
      },
      "source": [
        "## 모델 구성"
      ]
    },
    {
      "cell_type": "code",
      "metadata": {
        "colab": {
          "base_uri": "https://localhost:8080/"
        },
        "id": "Hhu5co9BIEql",
        "outputId": "b079ea84-176a-464b-d311-71e2f53993a1"
      },
      "source": [
        "def build_model():\n",
        "    model = models.Sequential()\n",
        "    model.add(layers.Dense(64, activation=\"relu\", input_shape=(train_data.shape[1], )))\n",
        "    model.add(layers.Dense(64, activation=\"relu\"))\n",
        "    model.add(layers.Dense(1))\n",
        "\n",
        "    model.compile(optimizer=\"rmsprop\", loss=\"mse\", metrics=[\"mean_absolute_error\"])\n",
        "    return model\n",
        "\n",
        "k=4 \n",
        "num_val_sam = len(train_data) // k # 검증 데이터의 비율\n",
        "num_ephocs = 100\n",
        "all_scores = []\n",
        "for i in range(k):\n",
        "    print(\"처리중인 폴드 #\", i)\n",
        "    #검증 데이터 준비: k번째 분할\n",
        "    val_data = train_data[i * num_val_sam : (i+1) * num_val_sam]\n",
        "    val_targets = train_target[i * num_val_sam : (i+1) * num_val_sam]\n",
        "    #훈련 데이터 준비: 다른 분할 전체\n",
        "    partial_train_data = np.concatenate(\n",
        "        [train_data[:i * num_val_sam], train_data[(i+1) * num_val_sam:]],\n",
        "        axis=0\n",
        "    )\n",
        "    partial_train_targets = np.concatenate(\n",
        "        [train_target[:i * num_val_sam], train_target[(i+1) * num_val_sam:]],\n",
        "        axis=0\n",
        "    )\n",
        "    model = build_model()\n",
        "    model.fit(partial_train_data, partial_train_targets, epochs=num_ephocs, batch_size=1, verbose=0)\n",
        "    val_mse, val_mae = model.evaluate(test_data, test_target, verbose=0)\n",
        "    all_scores.append(val_mae)\n",
        "print(\"평균 MAE:\", np.mean(all_scores).round(4))"
      ],
      "execution_count": 4,
      "outputs": [
        {
          "output_type": "stream",
          "text": [
            "처리중인 폴드 # 0\n",
            "처리중인 폴드 # 1\n",
            "처리중인 폴드 # 2\n",
            "처리중인 폴드 # 3\n",
            "평균 MAE: 2.6027\n"
          ],
          "name": "stdout"
        }
      ]
    },
    {
      "cell_type": "code",
      "metadata": {
        "colab": {
          "base_uri": "https://localhost:8080/"
        },
        "id": "nxjJzXW5IEqm",
        "outputId": "6110b251-cc70-4752-d868-37f96fe48b06"
      },
      "source": [
        "k=5\n",
        "num_val_sam = len(train_data) // k # 검증 데이터의 비율\n",
        "num_ephocs = 500\n",
        "all_scores = []\n",
        "for i in range(k):\n",
        "    print(\"처리중인 폴드 #\", i)\n",
        "    #검증 데이터 준비: k번째 분할\n",
        "    val_data = train_data[i * num_val_sam : (i+1) * num_val_sam]\n",
        "    val_targets = train_target[i * num_val_sam : (i+1) * num_val_sam]\n",
        "    #훈련 데이터 준비: 다른 분할 전체\n",
        "    partial_train_data = np.concatenate(\n",
        "        [train_data[:i * num_val_sam], train_data[(i+1) * num_val_sam:]],\n",
        "        axis=0\n",
        "    )\n",
        "    partial_train_targets = np.concatenate(\n",
        "        [train_target[:i * num_val_sam], train_target[(i+1) * num_val_sam:]],\n",
        "        axis=0\n",
        "    )\n",
        "    model = build_model()\n",
        "    model.fit(partial_train_data, partial_train_targets, epochs=num_ephocs, batch_size=1, verbose=0)\n",
        "    val_mse, val_mae = model.evaluate(test_data, test_target, verbose=0)\n",
        "    all_scores.append(val_mae)\n",
        "print(\"평균 MAE:\", np.mean(all_scores).round(4))"
      ],
      "execution_count": 5,
      "outputs": [
        {
          "output_type": "stream",
          "text": [
            "처리중인 폴드 # 0\n",
            "처리중인 폴드 # 1\n",
            "처리중인 폴드 # 2\n",
            "처리중인 폴드 # 3\n",
            "처리중인 폴드 # 4\n",
            "평균 MAE: 2.6148\n"
          ],
          "name": "stdout"
        }
      ]
    },
    {
      "cell_type": "code",
      "metadata": {
        "id": "BQLeOsqoIEqm"
      },
      "source": [
        "from keras import backend as K\n",
        "K.clear_session()"
      ],
      "execution_count": 6,
      "outputs": []
    }
  ]
}