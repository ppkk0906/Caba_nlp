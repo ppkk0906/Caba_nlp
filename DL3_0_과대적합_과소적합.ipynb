{
  "nbformat": 4,
  "nbformat_minor": 0,
  "metadata": {
    "orig_nbformat": 2,
    "colab": {
      "name": "DL3_0_과대적합_과소적합.ipynb",
      "provenance": [],
      "collapsed_sections": [],
      "include_colab_link": true
    },
    "kernelspec": {
      "name": "python3",
      "display_name": "Python 3"
    }
  },
  "cells": [
    {
      "cell_type": "markdown",
      "metadata": {
        "id": "view-in-github",
        "colab_type": "text"
      },
      "source": [
        "<a href=\"https://colab.research.google.com/github/ppkk0906/Caba_nlp/blob/main/DL3_0_%EA%B3%BC%EB%8C%80%EC%A0%81%ED%95%A9_%EA%B3%BC%EC%86%8C%EC%A0%81%ED%95%A9.ipynb\" target=\"_parent\"><img src=\"https://colab.research.google.com/assets/colab-badge.svg\" alt=\"Open In Colab\"/></a>"
      ]
    },
    {
      "cell_type": "markdown",
      "metadata": {
        "id": "v2oH8e5Tr_rC"
      },
      "source": [
        "## 과대적합과 과소적합\n",
        "    머신러닝의 근본적인 이슈는 최적화와 일반화 사이의 줄다리기이다.\n",
        "\n",
        "- 최적화: 훈련 데이터 내에서 최고의 성능을 얻고자 모델을 조정(학습)\n",
        "- 일반화: 훈련된 모델이 본 적이 없는 데이터에서 얼마나 잘 예측을 수행하는지 의미\n",
        "- 과대적합: 학습 데이터에만 최적화되어 일반화가 제대로 안되는 현상\n",
        "    - 원인: 과다한 변수, 데이터 부족, \n",
        "- 과소적랍: 학습 데이터에도 제대로 최적화가 안되는 현상\n",
        "    - 원인: 종속 변수를 제대로 반영하지 못하는 변수 구성, "
      ]
    },
    {
      "cell_type": "code",
      "metadata": {
        "colab": {
          "base_uri": "https://localhost:8080/"
        },
        "id": "KZE_whMzsBlM",
        "outputId": "bd5b3023-05a4-4fbf-a4bf-fe447aa7f8de"
      },
      "source": [
        "from keras.datasets import imdb\r\n",
        "import numpy as np\r\n",
        "from keras import models, layers\r\n",
        "import matplotlib.pyplot as plt\r\n",
        "from keras import regularizers\r\n",
        "\r\n",
        "\r\n",
        "(train_data, train_labels), (test_data,test_labels) = imdb.load_data(num_words=10000)"
      ],
      "execution_count": 1,
      "outputs": [
        {
          "output_type": "stream",
          "text": [
            "Downloading data from https://storage.googleapis.com/tensorflow/tf-keras-datasets/imdb.npz\n",
            "17465344/17464789 [==============================] - 0s 0us/step\n"
          ],
          "name": "stdout"
        },
        {
          "output_type": "stream",
          "text": [
            "<string>:6: VisibleDeprecationWarning: Creating an ndarray from ragged nested sequences (which is a list-or-tuple of lists-or-tuples-or ndarrays with different lengths or shapes) is deprecated. If you meant to do this, you must specify 'dtype=object' when creating the ndarray\n",
            "/usr/local/lib/python3.7/dist-packages/tensorflow/python/keras/datasets/imdb.py:159: VisibleDeprecationWarning: Creating an ndarray from ragged nested sequences (which is a list-or-tuple of lists-or-tuples-or ndarrays with different lengths or shapes) is deprecated. If you meant to do this, you must specify 'dtype=object' when creating the ndarray\n",
            "  x_train, y_train = np.array(xs[:idx]), np.array(labels[:idx])\n",
            "/usr/local/lib/python3.7/dist-packages/tensorflow/python/keras/datasets/imdb.py:160: VisibleDeprecationWarning: Creating an ndarray from ragged nested sequences (which is a list-or-tuple of lists-or-tuples-or ndarrays with different lengths or shapes) is deprecated. If you meant to do this, you must specify 'dtype=object' when creating the ndarray\n",
            "  x_test, y_test = np.array(xs[idx:]), np.array(labels[idx:])\n"
          ],
          "name": "stderr"
        }
      ]
    },
    {
      "cell_type": "code",
      "metadata": {
        "id": "YfiAo0astGNr"
      },
      "source": [
        "def vectorize_sequences(sequences, ndim=10000):\r\n",
        "  results = np.zeros((len(sequences), ndim))\r\n",
        "  for i, sequence in enumerate(sequences):\r\n",
        "    results[i, sequence] = 1\r\n",
        "  return results\r\n",
        "\r\n",
        "X_train = vectorize_sequences(train_data)\r\n",
        "X_test = vectorize_sequences(test_data)\r\n",
        "y_train = np.asarray(train_labels).astype('float32')\r\n",
        "y_test = np.asarray(test_labels).astype('float32')"
      ],
      "execution_count": 2,
      "outputs": []
    },
    {
      "cell_type": "code",
      "metadata": {
        "colab": {
          "base_uri": "https://localhost:8080/"
        },
        "id": "RkGBZSLZyTVp",
        "outputId": "7937719f-1fa4-42ea-b26f-3c22da71a97c"
      },
      "source": [
        "original_model = models.Sequential()\r\n",
        "original_model.add(layers.Dense(16, activation=\"relu\", input_shape=(10000, )))\r\n",
        "original_model.add(layers.Dense(16, activation=\"relu\"))\r\n",
        "original_model.add(layers.Dense(1, activation=\"sigmoid\"))\r\n",
        "original_model.compile(optimizer=\"rmsprop\", loss=\"binary_crossentropy\", metrics=[\"acc\"])\r\n",
        "original_hist = original_model.fit(X_train, y_train, epochs=20, batch_size=512, validation_data=(X_test, y_test))\r\n"
      ],
      "execution_count": 3,
      "outputs": [
        {
          "output_type": "stream",
          "text": [
            "Epoch 1/20\n",
            "49/49 [==============================] - 4s 59ms/step - loss: 0.5453 - acc: 0.7436 - val_loss: 0.3255 - val_acc: 0.8838\n",
            "Epoch 2/20\n",
            "49/49 [==============================] - 2s 38ms/step - loss: 0.2636 - acc: 0.9113 - val_loss: 0.3161 - val_acc: 0.8703\n",
            "Epoch 3/20\n",
            "49/49 [==============================] - 2s 39ms/step - loss: 0.1923 - acc: 0.9337 - val_loss: 0.2832 - val_acc: 0.8871\n",
            "Epoch 4/20\n",
            "49/49 [==============================] - 2s 37ms/step - loss: 0.1625 - acc: 0.9454 - val_loss: 0.3295 - val_acc: 0.8702\n",
            "Epoch 5/20\n",
            "49/49 [==============================] - 2s 38ms/step - loss: 0.1379 - acc: 0.9552 - val_loss: 0.3174 - val_acc: 0.8803\n",
            "Epoch 6/20\n",
            "49/49 [==============================] - 2s 38ms/step - loss: 0.1196 - acc: 0.9588 - val_loss: 0.3401 - val_acc: 0.8736\n",
            "Epoch 7/20\n",
            "49/49 [==============================] - 2s 37ms/step - loss: 0.1041 - acc: 0.9651 - val_loss: 0.3708 - val_acc: 0.8700\n",
            "Epoch 8/20\n",
            "49/49 [==============================] - 2s 38ms/step - loss: 0.0896 - acc: 0.9720 - val_loss: 0.4156 - val_acc: 0.8602\n",
            "Epoch 9/20\n",
            "49/49 [==============================] - 2s 38ms/step - loss: 0.0855 - acc: 0.9737 - val_loss: 0.4144 - val_acc: 0.8675\n",
            "Epoch 10/20\n",
            "49/49 [==============================] - 2s 38ms/step - loss: 0.0698 - acc: 0.9798 - val_loss: 0.4408 - val_acc: 0.8639\n",
            "Epoch 11/20\n",
            "49/49 [==============================] - 2s 38ms/step - loss: 0.0624 - acc: 0.9819 - val_loss: 0.4724 - val_acc: 0.8623\n",
            "Epoch 12/20\n",
            "49/49 [==============================] - 2s 38ms/step - loss: 0.0533 - acc: 0.9838 - val_loss: 0.5026 - val_acc: 0.8593\n",
            "Epoch 13/20\n",
            "49/49 [==============================] - 2s 38ms/step - loss: 0.0455 - acc: 0.9870 - val_loss: 0.5272 - val_acc: 0.8600\n",
            "Epoch 14/20\n",
            "49/49 [==============================] - 2s 38ms/step - loss: 0.0379 - acc: 0.9905 - val_loss: 0.5674 - val_acc: 0.8560\n",
            "Epoch 15/20\n",
            "49/49 [==============================] - 2s 38ms/step - loss: 0.0355 - acc: 0.9907 - val_loss: 0.6428 - val_acc: 0.8470\n",
            "Epoch 16/20\n",
            "49/49 [==============================] - 2s 38ms/step - loss: 0.0304 - acc: 0.9918 - val_loss: 0.6360 - val_acc: 0.8548\n",
            "Epoch 17/20\n",
            "49/49 [==============================] - 2s 37ms/step - loss: 0.0212 - acc: 0.9949 - val_loss: 0.6876 - val_acc: 0.8543\n",
            "Epoch 18/20\n",
            "49/49 [==============================] - 2s 38ms/step - loss: 0.0229 - acc: 0.9945 - val_loss: 0.7191 - val_acc: 0.8492\n",
            "Epoch 19/20\n",
            "49/49 [==============================] - 2s 39ms/step - loss: 0.0155 - acc: 0.9975 - val_loss: 0.7462 - val_acc: 0.8528\n",
            "Epoch 20/20\n",
            "49/49 [==============================] - 2s 38ms/step - loss: 0.0129 - acc: 0.9977 - val_loss: 0.7804 - val_acc: 0.8515\n"
          ],
          "name": "stdout"
        }
      ]
    },
    {
      "cell_type": "code",
      "metadata": {
        "colab": {
          "base_uri": "https://localhost:8080/"
        },
        "id": "E7BlTPPg2A_b",
        "outputId": "57f41719-f5d9-443a-d4d5-20cb2db1a286"
      },
      "source": [
        "#네트워크 크기 축소\r\n",
        "smaller_model = models.Sequential()\r\n",
        "smaller_model.add(layers.Dense(8, activation=\"relu\", input_shape=(10000, )))\r\n",
        "smaller_model.add(layers.Dense(8, activation=\"relu\"))\r\n",
        "smaller_model.add(layers.Dense(1, activation=\"sigmoid\"))\r\n",
        "smaller_model.compile(optimizer=\"rmsprop\", loss=\"binary_crossentropy\", metrics=[\"acc\"])\r\n",
        "smaller_hist = smaller_model.fit(X_train, y_train, epochs=20, batch_size=512, validation_data=(X_test, y_test))"
      ],
      "execution_count": 4,
      "outputs": [
        {
          "output_type": "stream",
          "text": [
            "Epoch 1/20\n",
            "49/49 [==============================] - 3s 49ms/step - loss: 0.6251 - acc: 0.5955 - val_loss: 0.5226 - val_acc: 0.7410\n",
            "Epoch 2/20\n",
            "49/49 [==============================] - 2s 36ms/step - loss: 0.4743 - acc: 0.8451 - val_loss: 0.4679 - val_acc: 0.8726\n",
            "Epoch 3/20\n",
            "49/49 [==============================] - 2s 36ms/step - loss: 0.4177 - acc: 0.9096 - val_loss: 0.4494 - val_acc: 0.8646\n",
            "Epoch 4/20\n",
            "49/49 [==============================] - 2s 36ms/step - loss: 0.3762 - acc: 0.9332 - val_loss: 0.4439 - val_acc: 0.8692\n",
            "Epoch 5/20\n",
            "49/49 [==============================] - 2s 36ms/step - loss: 0.3463 - acc: 0.9476 - val_loss: 0.4339 - val_acc: 0.8741\n",
            "Epoch 6/20\n",
            "49/49 [==============================] - 2s 36ms/step - loss: 0.3166 - acc: 0.9598 - val_loss: 0.4697 - val_acc: 0.8620\n",
            "Epoch 7/20\n",
            "49/49 [==============================] - 2s 36ms/step - loss: 0.2896 - acc: 0.9653 - val_loss: 0.4474 - val_acc: 0.8681\n",
            "Epoch 8/20\n",
            "49/49 [==============================] - 2s 36ms/step - loss: 0.2634 - acc: 0.9744 - val_loss: 0.4336 - val_acc: 0.8667\n",
            "Epoch 9/20\n",
            "49/49 [==============================] - 2s 36ms/step - loss: 0.2433 - acc: 0.9785 - val_loss: 0.4817 - val_acc: 0.8624\n",
            "Epoch 10/20\n",
            "49/49 [==============================] - 2s 36ms/step - loss: 0.2184 - acc: 0.9801 - val_loss: 0.5019 - val_acc: 0.8603\n",
            "Epoch 11/20\n",
            "49/49 [==============================] - 2s 36ms/step - loss: 0.2011 - acc: 0.9820 - val_loss: 0.5233 - val_acc: 0.8594\n",
            "Epoch 12/20\n",
            "49/49 [==============================] - 2s 36ms/step - loss: 0.1802 - acc: 0.9847 - val_loss: 0.5873 - val_acc: 0.8544\n",
            "Epoch 13/20\n",
            "49/49 [==============================] - 2s 35ms/step - loss: 0.1592 - acc: 0.9872 - val_loss: 0.6565 - val_acc: 0.8509\n",
            "Epoch 14/20\n",
            "49/49 [==============================] - 2s 36ms/step - loss: 0.1451 - acc: 0.9887 - val_loss: 0.6024 - val_acc: 0.8550\n",
            "Epoch 15/20\n",
            "49/49 [==============================] - 2s 36ms/step - loss: 0.1303 - acc: 0.9894 - val_loss: 0.6733 - val_acc: 0.8529\n",
            "Epoch 16/20\n",
            "49/49 [==============================] - 2s 36ms/step - loss: 0.1182 - acc: 0.9906 - val_loss: 0.6911 - val_acc: 0.8516\n",
            "Epoch 17/20\n",
            "49/49 [==============================] - 2s 36ms/step - loss: 0.1040 - acc: 0.9917 - val_loss: 0.7768 - val_acc: 0.8488\n",
            "Epoch 18/20\n",
            "49/49 [==============================] - 2s 36ms/step - loss: 0.0933 - acc: 0.9919 - val_loss: 0.8932 - val_acc: 0.8455\n",
            "Epoch 19/20\n",
            "49/49 [==============================] - 2s 36ms/step - loss: 0.0875 - acc: 0.9907 - val_loss: 0.8565 - val_acc: 0.8460\n",
            "Epoch 20/20\n",
            "49/49 [==============================] - 2s 36ms/step - loss: 0.0773 - acc: 0.9915 - val_loss: 0.8733 - val_acc: 0.8462\n"
          ],
          "name": "stdout"
        }
      ]
    },
    {
      "cell_type": "code",
      "metadata": {
        "colab": {
          "base_uri": "https://localhost:8080/"
        },
        "id": "ypzdGsUW5TK1",
        "outputId": "fae1edf1-f1b2-4e17-eab6-ce039b1abd40"
      },
      "source": [
        "#네트워크 크기 확대\r\n",
        "bigger_model = models.Sequential()\r\n",
        "bigger_model.add(layers.Dense(1024, activation=\"relu\", input_shape=(10000, )))\r\n",
        "bigger_model.add(layers.Dense(1024, activation=\"relu\"))\r\n",
        "bigger_model.add(layers.Dense(1, activation=\"sigmoid\"))\r\n",
        "bigger_model.compile(optimizer=\"rmsprop\", loss=\"binary_crossentropy\", metrics=[\"acc\"])\r\n",
        "bigger_hist = bigger_model.fit(X_train, y_train, epochs=20, batch_size=512, validation_data=(X_test, y_test))"
      ],
      "execution_count": 5,
      "outputs": [
        {
          "output_type": "stream",
          "text": [
            "Epoch 1/20\n",
            "49/49 [==============================] - 33s 666ms/step - loss: 0.8472 - acc: 0.6967 - val_loss: 0.2844 - val_acc: 0.8833\n",
            "Epoch 2/20\n",
            "49/49 [==============================] - 32s 660ms/step - loss: 0.2147 - acc: 0.9179 - val_loss: 0.4983 - val_acc: 0.8158\n",
            "Epoch 3/20\n",
            "49/49 [==============================] - 32s 664ms/step - loss: 0.1218 - acc: 0.9522 - val_loss: 0.7189 - val_acc: 0.7968\n",
            "Epoch 4/20\n",
            "49/49 [==============================] - 32s 663ms/step - loss: 0.0653 - acc: 0.9833 - val_loss: 0.4861 - val_acc: 0.8822\n",
            "Epoch 5/20\n",
            "49/49 [==============================] - 32s 665ms/step - loss: 0.0230 - acc: 0.9973 - val_loss: 0.4213 - val_acc: 0.8834\n",
            "Epoch 6/20\n",
            "49/49 [==============================] - 32s 663ms/step - loss: 0.0019 - acc: 0.9999 - val_loss: 0.6562 - val_acc: 0.8854\n",
            "Epoch 7/20\n",
            "49/49 [==============================] - 32s 663ms/step - loss: 0.0280 - acc: 0.9975 - val_loss: 0.5418 - val_acc: 0.8811\n",
            "Epoch 8/20\n",
            "49/49 [==============================] - 32s 664ms/step - loss: 3.7024e-04 - acc: 1.0000 - val_loss: 0.6961 - val_acc: 0.8815\n",
            "Epoch 9/20\n",
            "49/49 [==============================] - 32s 663ms/step - loss: 4.0295e-05 - acc: 1.0000 - val_loss: 0.8111 - val_acc: 0.8824\n",
            "Epoch 10/20\n",
            "49/49 [==============================] - 32s 663ms/step - loss: 5.4196e-06 - acc: 1.0000 - val_loss: 0.9425 - val_acc: 0.8840\n",
            "Epoch 11/20\n",
            "49/49 [==============================] - 32s 662ms/step - loss: 7.2572e-07 - acc: 1.0000 - val_loss: 1.0706 - val_acc: 0.8834\n",
            "Epoch 12/20\n",
            "49/49 [==============================] - 32s 663ms/step - loss: 1.2890e-07 - acc: 1.0000 - val_loss: 1.1973 - val_acc: 0.8833\n",
            "Epoch 13/20\n",
            "49/49 [==============================] - 32s 663ms/step - loss: 3.7503e-08 - acc: 1.0000 - val_loss: 1.2730 - val_acc: 0.8838\n",
            "Epoch 14/20\n",
            "49/49 [==============================] - 33s 681ms/step - loss: 1.6477e-08 - acc: 1.0000 - val_loss: 1.3128 - val_acc: 0.8837\n",
            "Epoch 15/20\n",
            "49/49 [==============================] - 33s 676ms/step - loss: 9.8045e-09 - acc: 1.0000 - val_loss: 1.3393 - val_acc: 0.8838\n",
            "Epoch 16/20\n",
            "49/49 [==============================] - 33s 674ms/step - loss: 7.4757e-09 - acc: 1.0000 - val_loss: 1.3582 - val_acc: 0.8837\n",
            "Epoch 17/20\n",
            "49/49 [==============================] - 33s 671ms/step - loss: 5.6605e-09 - acc: 1.0000 - val_loss: 1.3730 - val_acc: 0.8837\n",
            "Epoch 18/20\n",
            "49/49 [==============================] - 33s 670ms/step - loss: 4.6751e-09 - acc: 1.0000 - val_loss: 1.3850 - val_acc: 0.8836\n",
            "Epoch 19/20\n",
            "49/49 [==============================] - 33s 670ms/step - loss: 4.0620e-09 - acc: 1.0000 - val_loss: 1.3954 - val_acc: 0.8836\n",
            "Epoch 20/20\n",
            "49/49 [==============================] - 33s 673ms/step - loss: 3.7486e-09 - acc: 1.0000 - val_loss: 1.4044 - val_acc: 0.8837\n"
          ],
          "name": "stdout"
        }
      ]
    },
    {
      "cell_type": "code",
      "metadata": {
        "id": "jj5y92fA3sSF"
      },
      "source": [
        "epochs = range(1,21)\r\n",
        "original_val_loss = original_hist.history[\"val_loss\"]\r\n",
        "smaller_val_loss = smaller_hist.history[\"val_loss\"]\r\n",
        "bigger_val_loss = bigger_hist.history[\"val_loss\"]"
      ],
      "execution_count": 6,
      "outputs": []
    },
    {
      "cell_type": "code",
      "metadata": {
        "colab": {
          "base_uri": "https://localhost:8080/",
          "height": 297
        },
        "id": "X0Lw45SM39zY",
        "outputId": "c7a84e42-bbf3-4c33-b20c-f1824f14298e"
      },
      "source": [
        "plt.plot(epochs, original_val_loss, 'bo', label=\"Original validation loss\")\r\n",
        "plt.plot(epochs, smaller_val_loss, 'ro', label=\"Smaller validation loss\")\r\n",
        "plt.plot(epochs, bigger_val_loss, 'go', label=\"Bigger validation loss\")\r\n",
        "plt.xlabel(\"Epochs\")\r\n",
        "plt.ylabel(\"Validation loss\")\r\n",
        "plt.legend()"
      ],
      "execution_count": 7,
      "outputs": [
        {
          "output_type": "execute_result",
          "data": {
            "text/plain": [
              "<matplotlib.legend.Legend at 0x7fdbd47b20d0>"
            ]
          },
          "metadata": {
            "tags": []
          },
          "execution_count": 7
        },
        {
          "output_type": "display_data",
          "data": {
            "image/png": "[encoded data removed]",
            "text/plain": [
              "<Figure size 432x288 with 1 Axes>"
            ]
          },
          "metadata": {
            "tags": [],
            "needs_background": "light"
          }
        }
      ]
    },
    {
      "cell_type": "markdown",
      "metadata": {
        "id": "TatmjSPI7P-k"
      },
      "source": [
        "## 가중치 규제 추가\r\n",
        "- L1 규제: 가중치의 절대값에 비례하는 비용이 추가 (가중치의 L1 norm)\r\n",
        "- L2 규제(가중치 감쇠): 가중치의 제곱에 비례하는 비용이 추가 (가중치의 L2 norm)"
      ]
    },
    {
      "cell_type": "code",
      "metadata": {
        "colab": {
          "base_uri": "https://localhost:8080/"
        },
        "id": "_zodNEoF7o32",
        "outputId": "7ae9c9da-2168-4fb0-80a2-bb082ad38d4f"
      },
      "source": [
        "\r\n",
        "l2_model = models.Sequential()\r\n",
        "l2_model.add(layers.Dense(8, kernel_regularizer=regularizers.l2(0.001), activation=\"relu\", input_shape=(10000, )))\r\n",
        "l2_model.add(layers.Dense(8, kernel_regularizer=regularizers.l2(0.001), activation=\"relu\"))\r\n",
        "l2_model.add(layers.Dense(1, activation=\"sigmoid\"))\r\n",
        "l2_model.compile(optimizer=\"rmsprop\", loss=\"binary_crossentropy\", metrics=[\"acc\"])\r\n",
        "l2_model_hist = l2_model.fit(X_train, y_train, epochs=20, batch_size=512, validation_data=(X_test, y_test))"
      ],
      "execution_count": 8,
      "outputs": [
        {
          "output_type": "stream",
          "text": [
            "Epoch 1/20\n",
            "49/49 [==============================] - 3s 46ms/step - loss: 0.6070 - acc: 0.7393 - val_loss: 0.4238 - val_acc: 0.8644\n",
            "Epoch 2/20\n",
            "49/49 [==============================] - 2s 33ms/step - loss: 0.3665 - acc: 0.8932 - val_loss: 0.3468 - val_acc: 0.8860\n",
            "Epoch 3/20\n",
            "49/49 [==============================] - 2s 34ms/step - loss: 0.2879 - acc: 0.9185 - val_loss: 0.3245 - val_acc: 0.8894\n",
            "Epoch 4/20\n",
            "49/49 [==============================] - 2s 33ms/step - loss: 0.2569 - acc: 0.9285 - val_loss: 0.3263 - val_acc: 0.8860\n",
            "Epoch 5/20\n",
            "49/49 [==============================] - 2s 33ms/step - loss: 0.2369 - acc: 0.9324 - val_loss: 0.3244 - val_acc: 0.8872\n",
            "Epoch 6/20\n",
            "49/49 [==============================] - 2s 34ms/step - loss: 0.2207 - acc: 0.9428 - val_loss: 0.3314 - val_acc: 0.8842\n",
            "Epoch 7/20\n",
            "49/49 [==============================] - 2s 33ms/step - loss: 0.2157 - acc: 0.9426 - val_loss: 0.3370 - val_acc: 0.8839\n",
            "Epoch 8/20\n",
            "49/49 [==============================] - 2s 34ms/step - loss: 0.2094 - acc: 0.9440 - val_loss: 0.3524 - val_acc: 0.8794\n",
            "Epoch 9/20\n",
            "49/49 [==============================] - 2s 34ms/step - loss: 0.2040 - acc: 0.9477 - val_loss: 0.3500 - val_acc: 0.8797\n",
            "Epoch 10/20\n",
            "49/49 [==============================] - 2s 34ms/step - loss: 0.1921 - acc: 0.9517 - val_loss: 0.3587 - val_acc: 0.8782\n",
            "Epoch 11/20\n",
            "49/49 [==============================] - 2s 34ms/step - loss: 0.1925 - acc: 0.9519 - val_loss: 0.3744 - val_acc: 0.8730\n",
            "Epoch 12/20\n",
            "49/49 [==============================] - 2s 34ms/step - loss: 0.1862 - acc: 0.9564 - val_loss: 0.3708 - val_acc: 0.8753\n",
            "Epoch 13/20\n",
            "49/49 [==============================] - 2s 34ms/step - loss: 0.1818 - acc: 0.9550 - val_loss: 0.3708 - val_acc: 0.8754\n",
            "Epoch 14/20\n",
            "49/49 [==============================] - 2s 34ms/step - loss: 0.1780 - acc: 0.9592 - val_loss: 0.3756 - val_acc: 0.8745\n",
            "Epoch 15/20\n",
            "49/49 [==============================] - 2s 34ms/step - loss: 0.1793 - acc: 0.9563 - val_loss: 0.3818 - val_acc: 0.8730\n",
            "Epoch 16/20\n",
            "49/49 [==============================] - 2s 34ms/step - loss: 0.1732 - acc: 0.9604 - val_loss: 0.4129 - val_acc: 0.8652\n",
            "Epoch 17/20\n",
            "49/49 [==============================] - 2s 34ms/step - loss: 0.1690 - acc: 0.9603 - val_loss: 0.3955 - val_acc: 0.8705\n",
            "Epoch 18/20\n",
            "49/49 [==============================] - 2s 33ms/step - loss: 0.1718 - acc: 0.9581 - val_loss: 0.3973 - val_acc: 0.8705\n",
            "Epoch 19/20\n",
            "49/49 [==============================] - 2s 33ms/step - loss: 0.1644 - acc: 0.9643 - val_loss: 0.4011 - val_acc: 0.8700\n",
            "Epoch 20/20\n",
            "49/49 [==============================] - 2s 33ms/step - loss: 0.1639 - acc: 0.9633 - val_loss: 0.4049 - val_acc: 0.8700\n"
          ],
          "name": "stdout"
        }
      ]
    },
    {
      "cell_type": "code",
      "metadata": {
        "colab": {
          "base_uri": "https://localhost:8080/",
          "height": 297
        },
        "id": "-wJYDExN-eL3",
        "outputId": "1865f394-201a-4980-d370-7adb88a5260c"
      },
      "source": [
        "l2_val_loss = l2_model_hist.history[\"val_loss\"]\r\n",
        "plt.plot(epochs, original_val_loss, 'bo', label=\"Original validation loss\")\r\n",
        "plt.plot(epochs, smaller_val_loss, 'r+', label=\"Smaller validation loss\")\r\n",
        "plt.plot(epochs, bigger_val_loss, 'g+', label=\"Bigger validation loss\")\r\n",
        "plt.plot(epochs, l2_val_loss, 'mo', label=\"L2 regularizerd validation loss\")\r\n",
        "plt.xlabel(\"Epochs\")\r\n",
        "plt.ylabel(\"Validation loss\")\r\n",
        "plt.legend()"
      ],
      "execution_count": 9,
      "outputs": [
        {
          "output_type": "execute_result",
          "data": {
            "text/plain": [
              "<matplotlib.legend.Legend at 0x7fdbd3515310>"
            ]
          },
          "metadata": {
            "tags": []
          },
          "execution_count": 9
        },
        {
          "output_type": "display_data",
          "data": {
            "image/png": "[encoded data removed]",
            "text/plain": [
              "<Figure size 432x288 with 1 Axes>"
            ]
          },
          "metadata": {
            "tags": [],
            "needs_background": "light"
          }
        }
      ]
    },
    {
      "cell_type": "markdown",
      "metadata": {
        "id": "ghKCqprw-7W1"
      },
      "source": [
        "### 결과\r\n",
        "두 모델이 동일한 파라미터 수를 가지고 있더라도 L2 규제를 사용한 모델이 기본 모델보다 훨씬 과대적합에 잘 견딘다"
      ]
    },
    {
      "cell_type": "markdown",
      "metadata": {
        "id": "MsIEzBzT_bNH"
      },
      "source": [
        "### 과제\r\n",
        "l1(0.0001) 모델과 비교해보세요   \r\n",
        "l1_l2(l1=0.0001, l2=0.0001) 병행 규제를 적용한 모델과 비교하시오"
      ]
    },
    {
      "cell_type": "code",
      "metadata": {
        "id": "-5U_GjUY_LCc",
        "colab": {
          "base_uri": "https://localhost:8080/"
        },
        "outputId": "a0470e5b-7cbd-45bb-cdfc-3417a7489f0d"
      },
      "source": [
        "l1_model = models.Sequential()\r\n",
        "l1_model.add(layers.Dense(8, kernel_regularizer=regularizers.l1(0.0001), activation=\"relu\", input_shape=(10000, )))\r\n",
        "l1_model.add(layers.Dense(8, kernel_regularizer=regularizers.l1(0.0001), activation=\"relu\"))\r\n",
        "l1_model.add(layers.Dense(1, activation=\"sigmoid\"))\r\n",
        "l1_model.compile(optimizer=\"rmsprop\", loss=\"binary_crossentropy\", metrics=[\"acc\"])\r\n",
        "l1_model_hist = l1_model.fit(X_train, y_train, epochs=20, batch_size=512, validation_data=(X_test, y_test))"
      ],
      "execution_count": 10,
      "outputs": [
        {
          "output_type": "stream",
          "text": [
            "Epoch 1/20\n",
            "49/49 [==============================] - 3s 47ms/step - loss: 0.6511 - acc: 0.7303 - val_loss: 0.4287 - val_acc: 0.8732\n",
            "Epoch 2/20\n",
            "49/49 [==============================] - 2s 33ms/step - loss: 0.3776 - acc: 0.8928 - val_loss: 0.3644 - val_acc: 0.8842\n",
            "Epoch 3/20\n",
            "49/49 [==============================] - 2s 34ms/step - loss: 0.3123 - acc: 0.9089 - val_loss: 0.3394 - val_acc: 0.8890\n",
            "Epoch 4/20\n",
            "49/49 [==============================] - 2s 34ms/step - loss: 0.2810 - acc: 0.9218 - val_loss: 0.3467 - val_acc: 0.8817\n",
            "Epoch 5/20\n",
            "49/49 [==============================] - 2s 33ms/step - loss: 0.2710 - acc: 0.9248 - val_loss: 0.3374 - val_acc: 0.8876\n",
            "Epoch 6/20\n",
            "49/49 [==============================] - 2s 33ms/step - loss: 0.2580 - acc: 0.9281 - val_loss: 0.3632 - val_acc: 0.8757\n",
            "Epoch 7/20\n",
            "49/49 [==============================] - 2s 33ms/step - loss: 0.2458 - acc: 0.9356 - val_loss: 0.3435 - val_acc: 0.8863\n",
            "Epoch 8/20\n",
            "49/49 [==============================] - 2s 33ms/step - loss: 0.2389 - acc: 0.9381 - val_loss: 0.3488 - val_acc: 0.8846\n",
            "Epoch 9/20\n",
            "49/49 [==============================] - 2s 33ms/step - loss: 0.2404 - acc: 0.9371 - val_loss: 0.3534 - val_acc: 0.8846\n",
            "Epoch 10/20\n",
            "49/49 [==============================] - 2s 34ms/step - loss: 0.2283 - acc: 0.9426 - val_loss: 0.3674 - val_acc: 0.8790\n",
            "Epoch 11/20\n",
            "49/49 [==============================] - 2s 33ms/step - loss: 0.2282 - acc: 0.9405 - val_loss: 0.3687 - val_acc: 0.8779\n",
            "Epoch 12/20\n",
            "49/49 [==============================] - 2s 34ms/step - loss: 0.2197 - acc: 0.9460 - val_loss: 0.3864 - val_acc: 0.8726\n",
            "Epoch 13/20\n",
            "49/49 [==============================] - 2s 33ms/step - loss: 0.2153 - acc: 0.9452 - val_loss: 0.3756 - val_acc: 0.8783\n",
            "Epoch 14/20\n",
            "49/49 [==============================] - 2s 34ms/step - loss: 0.2150 - acc: 0.9479 - val_loss: 0.3774 - val_acc: 0.8772\n",
            "Epoch 15/20\n",
            "49/49 [==============================] - 2s 34ms/step - loss: 0.2016 - acc: 0.9539 - val_loss: 0.3872 - val_acc: 0.8741\n",
            "Epoch 16/20\n",
            "49/49 [==============================] - 2s 33ms/step - loss: 0.2009 - acc: 0.9533 - val_loss: 0.4194 - val_acc: 0.8683\n",
            "Epoch 17/20\n",
            "49/49 [==============================] - 2s 34ms/step - loss: 0.1994 - acc: 0.9515 - val_loss: 0.4311 - val_acc: 0.8594\n",
            "Epoch 18/20\n",
            "49/49 [==============================] - 2s 33ms/step - loss: 0.1977 - acc: 0.9542 - val_loss: 0.4087 - val_acc: 0.8690\n",
            "Epoch 19/20\n",
            "49/49 [==============================] - 2s 34ms/step - loss: 0.1961 - acc: 0.9556 - val_loss: 0.4049 - val_acc: 0.8710\n",
            "Epoch 20/20\n",
            "49/49 [==============================] - 2s 33ms/step - loss: 0.1931 - acc: 0.9551 - val_loss: 0.4005 - val_acc: 0.8725\n"
          ],
          "name": "stdout"
        }
      ]
    },
    {
      "cell_type": "code",
      "metadata": {
        "colab": {
          "base_uri": "https://localhost:8080/",
          "height": 297
        },
        "id": "izvhC4nbwmj2",
        "outputId": "b66bd745-3d78-4d1f-fb6f-fbd20e71752d"
      },
      "source": [
        "epochs = range(1,21)\r\n",
        "l1_val_loss = l1_model_hist.history[\"val_loss\"]\r\n",
        "plt.plot(epochs, original_val_loss, 'bo', label=\"Original validation loss\")\r\n",
        "plt.plot(epochs, smaller_val_loss, 'r+', label=\"Smaller validation loss\")\r\n",
        "plt.plot(epochs, l1_val_loss, 'g+', label=\"L1 validation loss\")\r\n",
        "plt.plot(epochs, l2_val_loss, 'mo', label=\"L2 regularizerd validation loss\")\r\n",
        "plt.xlabel(\"Epochs\")\r\n",
        "plt.ylabel(\"Validation loss\")\r\n",
        "plt.legend()"
      ],
      "execution_count": 12,
      "outputs": [
        {
          "output_type": "execute_result",
          "data": {
            "text/plain": [
              "<matplotlib.legend.Legend at 0x7fdbd1299a50>"
            ]
          },
          "metadata": {
            "tags": []
          },
          "execution_count": 12
        },
        {
          "output_type": "display_data",
          "data": {
            "image/png": "[encoded data removed]",
            "text/plain": [
              "<Figure size 432x288 with 1 Axes>"
            ]
          },
          "metadata": {
            "tags": [],
            "needs_background": "light"
          }
        }
      ]
    },
    {
      "cell_type": "code",
      "metadata": {
        "colab": {
          "base_uri": "https://localhost:8080/"
        },
        "id": "LT48-Gcgwvu0",
        "outputId": "cbedfd84-c59b-43c7-bbd6-e48163e47472"
      },
      "source": [
        "l12_model = models.Sequential()\r\n",
        "l12_model.add(layers.Dense(8, kernel_regularizer=regularizers.l1_l2(l1=0.0001, l2=0.0001), activation=\"relu\", input_shape=(10000, )))\r\n",
        "l12_model.add(layers.Dense(8, kernel_regularizer=regularizers.l1_l2(l1=0.0001, l2=0.0001), activation=\"relu\"))\r\n",
        "l12_model.add(layers.Dense(1, activation=\"sigmoid\"))\r\n",
        "l12_model.compile(optimizer=\"rmsprop\", loss=\"binary_crossentropy\", metrics=[\"acc\"])\r\n",
        "l12_model_hist = l12_model.fit(X_train, y_train, epochs=20, batch_size=512, validation_data=(X_test, y_test))"
      ],
      "execution_count": 13,
      "outputs": [
        {
          "output_type": "stream",
          "text": [
            "Epoch 1/20\n",
            "49/49 [==============================] - 3s 49ms/step - loss: 0.6623 - acc: 0.7326 - val_loss: 0.4890 - val_acc: 0.8598\n",
            "Epoch 2/20\n",
            "49/49 [==============================] - 2s 34ms/step - loss: 0.4404 - acc: 0.8842 - val_loss: 0.4004 - val_acc: 0.8756\n",
            "Epoch 3/20\n",
            "49/49 [==============================] - 2s 34ms/step - loss: 0.3592 - acc: 0.9005 - val_loss: 0.3660 - val_acc: 0.8801\n",
            "Epoch 4/20\n",
            "49/49 [==============================] - 2s 34ms/step - loss: 0.3159 - acc: 0.9110 - val_loss: 0.3468 - val_acc: 0.8863\n",
            "Epoch 5/20\n",
            "49/49 [==============================] - 2s 34ms/step - loss: 0.2978 - acc: 0.9133 - val_loss: 0.3407 - val_acc: 0.8872\n",
            "Epoch 6/20\n",
            "49/49 [==============================] - 2s 34ms/step - loss: 0.2868 - acc: 0.9161 - val_loss: 0.3395 - val_acc: 0.8883\n",
            "Epoch 7/20\n",
            "49/49 [==============================] - 2s 34ms/step - loss: 0.2736 - acc: 0.9233 - val_loss: 0.3405 - val_acc: 0.8879\n",
            "Epoch 8/20\n",
            "49/49 [==============================] - 2s 35ms/step - loss: 0.2657 - acc: 0.9269 - val_loss: 0.3455 - val_acc: 0.8860\n",
            "Epoch 9/20\n",
            "49/49 [==============================] - 2s 34ms/step - loss: 0.2614 - acc: 0.9304 - val_loss: 0.3488 - val_acc: 0.8850\n",
            "Epoch 10/20\n",
            "49/49 [==============================] - 2s 34ms/step - loss: 0.2522 - acc: 0.9304 - val_loss: 0.3552 - val_acc: 0.8830\n",
            "Epoch 11/20\n",
            "49/49 [==============================] - 2s 34ms/step - loss: 0.2512 - acc: 0.9337 - val_loss: 0.3532 - val_acc: 0.8846\n",
            "Epoch 12/20\n",
            "49/49 [==============================] - 2s 34ms/step - loss: 0.2484 - acc: 0.9342 - val_loss: 0.3611 - val_acc: 0.8813\n",
            "Epoch 13/20\n",
            "49/49 [==============================] - 2s 34ms/step - loss: 0.2441 - acc: 0.9377 - val_loss: 0.3612 - val_acc: 0.8823\n",
            "Epoch 14/20\n",
            "49/49 [==============================] - 2s 34ms/step - loss: 0.2406 - acc: 0.9379 - val_loss: 0.3630 - val_acc: 0.8827\n",
            "Epoch 15/20\n",
            "49/49 [==============================] - 2s 34ms/step - loss: 0.2384 - acc: 0.9398 - val_loss: 0.3717 - val_acc: 0.8795\n",
            "Epoch 16/20\n",
            "49/49 [==============================] - 2s 34ms/step - loss: 0.2315 - acc: 0.9437 - val_loss: 0.3742 - val_acc: 0.8795\n",
            "Epoch 17/20\n",
            "49/49 [==============================] - 2s 34ms/step - loss: 0.2316 - acc: 0.9448 - val_loss: 0.3765 - val_acc: 0.8795\n",
            "Epoch 18/20\n",
            "49/49 [==============================] - 2s 34ms/step - loss: 0.2292 - acc: 0.9422 - val_loss: 0.3762 - val_acc: 0.8786\n",
            "Epoch 19/20\n",
            "49/49 [==============================] - 2s 34ms/step - loss: 0.2281 - acc: 0.9441 - val_loss: 0.3837 - val_acc: 0.8770\n",
            "Epoch 20/20\n",
            "49/49 [==============================] - 2s 34ms/step - loss: 0.2235 - acc: 0.9460 - val_loss: 0.3851 - val_acc: 0.8769\n"
          ],
          "name": "stdout"
        }
      ]
    },
    {
      "cell_type": "code",
      "metadata": {
        "colab": {
          "base_uri": "https://localhost:8080/",
          "height": 299
        },
        "id": "MxStZVYaw_pF",
        "outputId": "98443330-9226-492d-e724-2222a2c8d329"
      },
      "source": [
        "l12_val_loss = l12_model_hist.history[\"val_loss\"]\r\n",
        "plt.plot(epochs, original_val_loss, 'bo', label=\"Original validation loss\")\r\n",
        "plt.plot(epochs, l12_val_loss, 'r+', label=\"L1,L2 validation loss\")\r\n",
        "plt.plot(epochs, l1_val_loss, 'g+', label=\"L1 validation loss\")\r\n",
        "plt.plot(epochs, l2_val_loss, 'mo', label=\"L2 regularizerd validation loss\")\r\n",
        "plt.xlabel(\"Epochs\")\r\n",
        "plt.ylabel(\"Validation loss\")\r\n",
        "plt.legend()"
      ],
      "execution_count": 16,
      "outputs": [
        {
          "output_type": "execute_result",
          "data": {
            "text/plain": [
              "<matplotlib.legend.Legend at 0x7fdbd4c96310>"
            ]
          },
          "metadata": {
            "tags": []
          },
          "execution_count": 16
        },
        {
          "output_type": "display_data",
          "data": {
            "image/png": "[encoded data removed]",
            "text/plain": [
              "<Figure size 432x288 with 1 Axes>"
            ]
          },
          "metadata": {
            "tags": [],
            "needs_background": "light"
          }
        }
      ]
    }
  ]
}