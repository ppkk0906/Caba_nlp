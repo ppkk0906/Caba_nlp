{
  "nbformat": 4,
  "nbformat_minor": 0,
  "metadata": {
    "colab": {
      "name": "DL5_1_using-convnets-with-small-datasets.ipynb",
      "provenance": [],
      "collapsed_sections": [],
      "mount_file_id": "1fX6x64f4r7Nzw07y63-68WWGPTytNUIO",
      "authorship_tag": "ABX9TyOfM2VoKnTnms8gTn2gc+hp",
      "include_colab_link": true
    },
    "kernelspec": {
      "name": "python3",
      "display_name": "Python 3"
    },
    "accelerator": "TPU"
  },
  "cells": [
    {
      "cell_type": "markdown",
      "metadata": {
        "id": "view-in-github",
        "colab_type": "text"
      },
      "source": [
        "<a href=\"https://colab.research.google.com/github/ppkk0906/Caba_nlp/blob/main/DL5_1_using_convnets_with_small_datasets.ipynb\" target=\"_parent\"><img src=\"https://colab.research.google.com/assets/colab-badge.svg\" alt=\"Open In Colab\"/></a>"
      ]
    },
    {
      "cell_type": "code",
      "metadata": {
        "id": "5o8LWQYxy3WZ"
      },
      "source": [
        "import os\r\n",
        "import numpy\r\n",
        "baseDir= './drive/MyDrive/Colab Notebooks/DeepLearning/dataset/cats_and_dogs_small'\r\n",
        "trainDir = os.path.join(baseDir,\"train\")\r\n",
        "validationDir = os.path.join(baseDir, \"validation\")\r\n",
        "testDir = os.path.join(baseDir, \"test\")\r\n",
        "\r\n",
        "# 고양이 디렉토리\r\n",
        "trainCatsDir = os.path.join(trainDir, \"cats\")\r\n",
        "validationCatsDir = os.path.join(validationDir, \"cats\")\r\n",
        "testCatsDir = os.path.join(testDir, \"cats\")\r\n",
        "\r\n",
        "# 강아지 디렉토리\r\n",
        "trainDogsDir = os.path.join(trainDir, \"dogs\")\r\n",
        "validationDogsDir = os.path.join(validationDir, \"dogs\")\r\n",
        "testDogsDir = os.path.join(testDir, \"dogs\")"
      ],
      "execution_count": 27,
      "outputs": []
    },
    {
      "cell_type": "code",
      "metadata": {
        "colab": {
          "base_uri": "https://localhost:8080/"
        },
        "id": "cNSVS0-61BFA",
        "outputId": "20fb52ae-49a9-4d6b-81b5-2476b34a3818"
      },
      "source": [
        "print(\"훈련용 고양이 이미지 개수:\", len(os.listdir(trainCatsDir)))\r\n",
        "print(\"검증용 고양이 이미지 개수:\", len(os.listdir(validationCatsDir)))\r\n",
        "print(\"시험용 고양이 이미지 개수:\", len(os.listdir(testCatsDir)))\r\n",
        "print(\"훈련용 강아지 이미지 개수:\", len(os.listdir(trainDogsDir)))\r\n",
        "print(\"검증용 강아지 이미지 개수:\", len(os.listdir(validationDogsDir)))\r\n",
        "print(\"시험용 강아지 이미지 개수:\", len(os.listdir(testDogsDir)))"
      ],
      "execution_count": 28,
      "outputs": [
        {
          "output_type": "stream",
          "text": [
            "훈련용 고양이 이미지 개수: 1000\n",
            "검증용 고양이 이미지 개수: 500\n",
            "시험용 고양이 이미지 개수: 500\n",
            "훈련용 강아지 이미지 개수: 1000\n",
            "검증용 강아지 이미지 개수: 500\n",
            "시험용 강아지 이미지 개수: 500\n"
          ],
          "name": "stdout"
        }
      ]
    },
    {
      "cell_type": "code",
      "metadata": {
        "colab": {
          "base_uri": "https://localhost:8080/",
          "height": 35
        },
        "id": "vvR6QAnw5Iq3",
        "outputId": "344ac552-d997-4df6-ef70-c0b2121cc8dc"
      },
      "source": [
        "import keras\r\n",
        "keras.__version__"
      ],
      "execution_count": 29,
      "outputs": [
        {
          "output_type": "execute_result",
          "data": {
            "application/vnd.google.colaboratory.intrinsic+json": {
              "type": "string"
            },
            "text/plain": [
              "'2.4.3'"
            ]
          },
          "metadata": {
            "tags": []
          },
          "execution_count": 29
        }
      ]
    },
    {
      "cell_type": "code",
      "metadata": {
        "id": "7oPIZcmn1_Tv"
      },
      "source": [
        "from keras import layers, models\r\n",
        "model = models.Sequential()\r\n",
        "model.add(layers.Conv2D(32,(3,3), activation=\"relu\", input_shape=(150,150,3)))\r\n",
        "model.add(layers.MaxPooling2D(2,2))\r\n",
        "model.add(layers.Conv2D(64,(3,3), activation=\"relu\"))\r\n",
        "model.add(layers.MaxPooling2D(2,2))\r\n",
        "model.add(layers.Conv2D(128, (3,3), activation=\"relu\"))\r\n",
        "model.add(layers.MaxPooling2D(2,2))\r\n",
        "model.add(layers.Flatten())\r\n",
        "model.add(layers.Dense(512, activation=\"relu\"))\r\n",
        "model.add(layers.Dense(1, activation=\"sigmoid\"))\r\n",
        "model.compile(optimizer=\"rmsprop\", loss=\"binary_crossentropy\", metrics=[\"acc\"])"
      ],
      "execution_count": 30,
      "outputs": []
    },
    {
      "cell_type": "markdown",
      "metadata": {
        "id": "dHMZfywK9sBV"
      },
      "source": [
        "## 데이터 전처리\r\n",
        "    데이터는 네트워크에 주입되기 전에 부동 소수 타입의 텐서로 적절하게 전처리되어 있어야 합니다. 지금은 데이터가 JPEG 파일로 되어 있으므로 네트워크에 주입하려면 대략 다음 과정을 따릅니다.\r\n",
        "\r\n",
        "1. 사진 파일을 읽습니다.\r\n",
        "2. JPEG 콘텐츠를 RGB 픽셀 값으로 디코딩합니다.\r\n",
        "3. 그다음 부동 소수 타입의 텐서로 변환합니다.\r\n",
        "4. 픽셀 값(0에서 255 사이)의 스케일을 \\[0, 1] 사이로 조정합니다(신경망은 작은 입력 값을 선호합니다).\r\n",
        "5. 케라스는 keras.preprocessing.image에 이미지 처리를 위한 헬퍼 도구를 가지고 있다.  \r\n",
        "대표적인 클래스가 imageDataGenerator이며 디스크에 있는 이미지 파일을 전처리된 배치 텐서로 자동 변환하는 파이썬 제너레이터를 만들어 준다."
      ]
    },
    {
      "cell_type": "code",
      "metadata": {
        "colab": {
          "base_uri": "https://localhost:8080/"
        },
        "id": "WF1nmEUb62FF",
        "outputId": "760713d0-61d0-48d0-b687-9628e76f6612"
      },
      "source": [
        "from keras.preprocessing.image import ImageDataGenerator \r\n",
        "trainDataGen = ImageDataGenerator(rescale=1./255)\r\n",
        "testDataGen = ImageDataGenerator(rescale=1./255)\r\n",
        "\r\n",
        "trainGenerator = trainDataGen.flow_from_directory(\r\n",
        "    trainDir,\r\n",
        "    target_size=(150, 150),\r\n",
        "    batch_size=20,\r\n",
        "    class_mode=\"binary\"\r\n",
        ")\r\n",
        "validationGenerator = testDataGen.flow_from_directory(\r\n",
        "    validationDir,\r\n",
        "    target_size=(150,150),\r\n",
        "    batch_size=20,\r\n",
        "    class_mode=\"binary\"\r\n",
        ")"
      ],
      "execution_count": 31,
      "outputs": [
        {
          "output_type": "stream",
          "text": [
            "Found 2000 images belonging to 2 classes.\n",
            "Found 1000 images belonging to 2 classes.\n"
          ],
          "name": "stdout"
        }
      ]
    },
    {
      "cell_type": "code",
      "metadata": {
        "colab": {
          "base_uri": "https://localhost:8080/"
        },
        "id": "-B9Z3W6kCf8W",
        "outputId": "aaaaa1c7-f315-4b48-f54d-3678f269dd14"
      },
      "source": [
        "for data_batch, label_batch in trainGenerator:\r\n",
        "  print(\"배치 데이터 크기\", data_batch.shape)\r\n",
        "  print(\"배치 레이블 크기\", label_batch.shape)\r\n",
        "  break"
      ],
      "execution_count": 32,
      "outputs": [
        {
          "output_type": "stream",
          "text": [
            "배치 데이터 크기 (20, 150, 150, 3)\n",
            "배치 레이블 크기 (20,)\n"
          ],
          "name": "stdout"
        }
      ]
    },
    {
      "cell_type": "markdown",
      "metadata": {
        "id": "Qq_ehxvqEI0D"
      },
      "source": [
        "## 제너레이터를 사용한 데이터에 모델을 훈련\r\n",
        "\r\n",
        "* <c>fit_generator 메서드는 fit 메서드와 동일하되 데이터 제너레이터를 사용할 수 있다.</c>\r\n",
        "* 이 메서드는 첫 번째 매개변수로 입력과 타깃의 배치를 끝없이 반환하는 파이썬 제너레이터를 기대한다.\r\n",
        "* 데이터가 끝없이 생성되기 때문에 케라스 모델에 하나의 에포크를 정의하기 위해 제너레이터로부터 얼마나 많은 샘플을 뽑을 것인지 알려 주어야 한다.\r\n",
        "* steps_per_epoch 매개변수에서 이를 설정한다.\r\n",
        "* 제너레이터로부터 steps_per_epoch 개의 배치만큼 뽑은 다음, 즉 steps_per_epoch 횟수만큼 경사 하강법 단계를 실행한 다음에 훈련 프로세스는 다음 에포크로 넘어간다.\r\n",
        "* 20개의 샘플이 하나의 배치이므로 2,000개의 샘플을 모두 처리할 때까지 100개의 배치를 뽑을 것이다.\r\n",
        "* fit_generator를 사용할 때 fit 메서드와 마찬가지로 validation_data 매개변수를 전달할 수 있다.\r\n",
        "* 이 매개변수에는 데이터 제너레이터도 가능하지만 넘파이 배열의 튜플도 가능하다.\r\n",
        "* validation_data로 제너레이터를 전달하면 검증 데이터의 배치를 끝없이 반환한다.\r\n",
        "* 따라서 검증 데이터 제너레이터에서 얼마나 많은 배치를 추출하여 평가할지 validation_steps 매개변수에 지정해야 한다."
      ]
    },
    {
      "cell_type": "code",
      "metadata": {
        "colab": {
          "base_uri": "https://localhost:8080/"
        },
        "id": "FLV9itEIEMGW",
        "outputId": "67e39eab-ef87-4ce4-d073-78ccf078644d"
      },
      "source": [
        "history = model.fit(\r\n",
        "    trainGenerator,\r\n",
        "    steps_per_epoch=100,\r\n",
        "    epochs=30,\r\n",
        "    validation_data = validationGenerator,\r\n",
        "    validation_steps=50\r\n",
        ")"
      ],
      "execution_count": 33,
      "outputs": [
        {
          "output_type": "stream",
          "text": [
            "Epoch 1/30\n",
            "100/100 [==============================] - 114s 1s/step - loss: 1.8753 - acc: 0.4988 - val_loss: 0.6883 - val_acc: 0.5240\n",
            "Epoch 2/30\n",
            "100/100 [==============================] - 112s 1s/step - loss: 0.6879 - acc: 0.5790 - val_loss: 0.6286 - val_acc: 0.6290\n",
            "Epoch 3/30\n",
            "100/100 [==============================] - 113s 1s/step - loss: 0.5873 - acc: 0.6908 - val_loss: 0.7384 - val_acc: 0.6330\n",
            "Epoch 4/30\n",
            "100/100 [==============================] - 113s 1s/step - loss: 0.5254 - acc: 0.7364 - val_loss: 0.6427 - val_acc: 0.6850\n",
            "Epoch 5/30\n",
            "100/100 [==============================] - 113s 1s/step - loss: 0.4273 - acc: 0.7914 - val_loss: 0.7235 - val_acc: 0.6520\n",
            "Epoch 6/30\n",
            "100/100 [==============================] - 113s 1s/step - loss: 0.3586 - acc: 0.8339 - val_loss: 0.8051 - val_acc: 0.7020\n",
            "Epoch 7/30\n",
            "100/100 [==============================] - 113s 1s/step - loss: 0.3154 - acc: 0.8524 - val_loss: 0.7000 - val_acc: 0.7280\n",
            "Epoch 8/30\n",
            "100/100 [==============================] - 113s 1s/step - loss: 0.1860 - acc: 0.9229 - val_loss: 0.7274 - val_acc: 0.7160\n",
            "Epoch 9/30\n",
            "100/100 [==============================] - 113s 1s/step - loss: 0.1401 - acc: 0.9544 - val_loss: 0.9985 - val_acc: 0.7370\n",
            "Epoch 10/30\n",
            "100/100 [==============================] - 114s 1s/step - loss: 0.1070 - acc: 0.9600 - val_loss: 1.7321 - val_acc: 0.5920\n",
            "Epoch 11/30\n",
            "100/100 [==============================] - 114s 1s/step - loss: 0.1221 - acc: 0.9492 - val_loss: 1.3227 - val_acc: 0.7390\n",
            "Epoch 12/30\n",
            "100/100 [==============================] - 113s 1s/step - loss: 0.0526 - acc: 0.9768 - val_loss: 1.2465 - val_acc: 0.7300\n",
            "Epoch 13/30\n",
            "100/100 [==============================] - 113s 1s/step - loss: 0.0440 - acc: 0.9877 - val_loss: 1.6369 - val_acc: 0.6480\n",
            "Epoch 14/30\n",
            "100/100 [==============================] - 113s 1s/step - loss: 0.0588 - acc: 0.9777 - val_loss: 1.6434 - val_acc: 0.7140\n",
            "Epoch 15/30\n",
            "100/100 [==============================] - 113s 1s/step - loss: 0.0322 - acc: 0.9915 - val_loss: 1.6266 - val_acc: 0.7100\n",
            "Epoch 16/30\n",
            "100/100 [==============================] - 113s 1s/step - loss: 0.0253 - acc: 0.9937 - val_loss: 2.0490 - val_acc: 0.7140\n",
            "Epoch 17/30\n",
            "100/100 [==============================] - 113s 1s/step - loss: 0.0336 - acc: 0.9875 - val_loss: 1.9152 - val_acc: 0.7430\n",
            "Epoch 18/30\n",
            "100/100 [==============================] - 113s 1s/step - loss: 0.0413 - acc: 0.9944 - val_loss: 3.1732 - val_acc: 0.6640\n",
            "Epoch 19/30\n",
            "100/100 [==============================] - 112s 1s/step - loss: 0.0834 - acc: 0.9819 - val_loss: 2.5458 - val_acc: 0.7260\n",
            "Epoch 20/30\n",
            "100/100 [==============================] - 113s 1s/step - loss: 0.0501 - acc: 0.9934 - val_loss: 2.4782 - val_acc: 0.7230\n",
            "Epoch 21/30\n",
            "100/100 [==============================] - 113s 1s/step - loss: 0.0706 - acc: 0.9845 - val_loss: 2.7293 - val_acc: 0.7410\n",
            "Epoch 22/30\n",
            "100/100 [==============================] - 114s 1s/step - loss: 0.0476 - acc: 0.9968 - val_loss: 2.7384 - val_acc: 0.7090\n",
            "Epoch 23/30\n",
            "100/100 [==============================] - 113s 1s/step - loss: 0.0108 - acc: 0.9963 - val_loss: 3.0913 - val_acc: 0.7270\n",
            "Epoch 24/30\n",
            "100/100 [==============================] - 113s 1s/step - loss: 0.0234 - acc: 0.9930 - val_loss: 2.6894 - val_acc: 0.7150\n",
            "Epoch 25/30\n",
            "100/100 [==============================] - 113s 1s/step - loss: 0.0150 - acc: 0.9955 - val_loss: 3.0418 - val_acc: 0.7220\n",
            "Epoch 26/30\n",
            "100/100 [==============================] - 113s 1s/step - loss: 0.0506 - acc: 0.9905 - val_loss: 3.2269 - val_acc: 0.7010\n",
            "Epoch 27/30\n",
            "100/100 [==============================] - 113s 1s/step - loss: 0.0198 - acc: 0.9941 - val_loss: 2.7754 - val_acc: 0.7240\n",
            "Epoch 28/30\n",
            "100/100 [==============================] - 113s 1s/step - loss: 0.0012 - acc: 1.0000 - val_loss: 3.4755 - val_acc: 0.7150\n",
            "Epoch 29/30\n",
            "100/100 [==============================] - 113s 1s/step - loss: 0.0638 - acc: 0.9851 - val_loss: 2.8960 - val_acc: 0.7250\n",
            "Epoch 30/30\n",
            "100/100 [==============================] - 113s 1s/step - loss: 0.0012 - acc: 0.9998 - val_loss: 3.2642 - val_acc: 0.6900\n"
          ],
          "name": "stdout"
        }
      ]
    },
    {
      "cell_type": "code",
      "metadata": {
        "id": "iWO2ktqgGxW7"
      },
      "source": [
        "# 모델 저장\r\n",
        "model.save(\"/drive/MyDrive/Colab Notebooks/DeepLearning/cats and dogs small 1.h5\")\r\n"
      ],
      "execution_count": 34,
      "outputs": []
    },
    {
      "cell_type": "code",
      "metadata": {
        "id": "B022ErsFHPol"
      },
      "source": [
        "# 모델 불러오기\r\n",
        "from keras.models import load_model\r\n",
        "# model = load_model(\"/drive/MyDrive/Colab Notebooks/DeepLearning/cats and dogs small 1.h5\")"
      ],
      "execution_count": 35,
      "outputs": []
    },
    {
      "cell_type": "code",
      "metadata": {
        "id": "o-wEit55Hs6c",
        "colab": {
          "base_uri": "https://localhost:8080/",
          "height": 283
        },
        "outputId": "0c5d5133-0f65-4344-9270-905698c49ab5"
      },
      "source": [
        "import matplotlib.pyplot as plt\r\n",
        "epochs = range(1, 31)\r\n",
        "histories = history.history\r\n",
        "plt.plot(epochs, histories[\"acc\"], \"bo\", label=\"Training accuracy\")\r\n",
        "plt.plot(epochs, histories[\"val_acc\"], \"ro\", label=\"Validation accuracy\")\r\n",
        "plt.legend()"
      ],
      "execution_count": 36,
      "outputs": [
        {
          "output_type": "execute_result",
          "data": {
            "text/plain": [
              "<matplotlib.legend.Legend at 0x7fb3e570ae10>"
            ]
          },
          "metadata": {
            "tags": []
          },
          "execution_count": 36
        },
        {
          "output_type": "display_data",
          "data": {
            "image/png": "[encoded data removed]",
            "text/plain": [
              "<Figure size 432x288 with 1 Axes>"
            ]
          },
          "metadata": {
            "tags": [],
            "needs_background": "light"
          }
        }
      ]
    },
    {
      "cell_type": "code",
      "metadata": {
        "colab": {
          "base_uri": "https://localhost:8080/",
          "height": 283
        },
        "id": "me4Iy2ADFh3x",
        "outputId": "04188c1f-7350-4d8b-ba7e-2c17cbe55ecf"
      },
      "source": [
        "plt.plot(epochs, histories[\"loss\"], \"bo\", label=\"Training loss\")\r\n",
        "plt.plot(epochs, histories[\"val_loss\"], \"ro\", label=\"Validation loss\")\r\n",
        "plt.legend()"
      ],
      "execution_count": 37,
      "outputs": [
        {
          "output_type": "execute_result",
          "data": {
            "text/plain": [
              "<matplotlib.legend.Legend at 0x7fb3e4685e50>"
            ]
          },
          "metadata": {
            "tags": []
          },
          "execution_count": 37
        },
        {
          "output_type": "display_data",
          "data": {
            "image/png": "[encoded data removed]",
            "text/plain": [
              "<Figure size 432x288 with 1 Axes>"
            ]
          },
          "metadata": {
            "tags": [],
            "needs_background": "light"
          }
        }
      ]
    }
  ]
}