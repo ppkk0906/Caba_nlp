{
  "nbformat": 4,
  "nbformat_minor": 0,
  "metadata": {
    "colab": {
      "name": "NLP1-0 Text Mining.ipynb",
      "provenance": [],
      "collapsed_sections": [],
      "authorship_tag": "ABX9TyN+kLdPAes0iBgL2XY+cQwq",
      "include_colab_link": true
    },
    "kernelspec": {
      "name": "python3",
      "display_name": "Python 3"
    }
  },
  "cells": [
    {
      "cell_type": "markdown",
      "metadata": {
        "id": "view-in-github",
        "colab_type": "text"
      },
      "source": [
        "<a href=\"https://colab.research.google.com/github/ppkk0906/Caba_nlp/blob/main/NLP1_0_Text_Mining.ipynb\" target=\"_parent\"><img src=\"https://colab.research.google.com/assets/colab-badge.svg\" alt=\"Open In Colab\"/></a>"
      ]
    },
    {
      "cell_type": "markdown",
      "metadata": {
        "id": "hfgFhH-17V_W"
      },
      "source": [
        "## NLP, 텍스트 분석\r\n",
        "- Natural Language Processing: 자연어처리\r\n",
        "- 텍스트 분석: 비정형 텍스트에서 의미있는 정보 추출\r\n",
        "- NLP와 텍스트 분석의 근간에는 머신러닝이 존재. 과거 언어적인 룰 기반 시스템에서 텍스트 데이터 기반으로 모델을 학습하고 예측\r\n",
        "- 텍스트 분석은 머신러닝, 언어 이해, 통계 등을 활용한 모델 수립, 정보 추출을 통해 인사이트 및 예측 분석 등의 분석 작업 수행\r\n",
        "  - 텍스트 분류: 신문기사 카테고리 분류, 스팸 메일 검출, 지도학습\r\n",
        "  - 감성 분석: 감정/판단/믿음/의견/기분 등의 주관적 요소 분석, 지도 또는 비지도 학습\r\n",
        "  - 텍스트 요약: 텍스트 내에서 중요한 주제나 중심 사상을 추출. 토픽 모델링\r\n",
        "  - 텍스트 군집화와 유사도 측정: 비슷한 유형의 문서에 대해 군집화 수행, 비지도 학습\r\n",
        "\r\n",
        "## 텍스트 분석 수행 프로세스\r\n",
        "  - 텍스트 정규화\r\n",
        "    - 클랜징, 토큰화, 필터링/스톱워드 제거/철자 수정\r\n",
        "  - 피처 벡터화 변환\r\n",
        "    - Bag of words: Count 기반, TF-IDF 기반\r\n",
        "    - Word2Vec\r\n",
        "  - ML모델 수립 및 학습/예측/평가\r\n",
        "## 텍스트 전처리 - 텍스트 정규화\r\n",
        "  - 클렌징: 분석에 방해되는 불필요한 문자, 기호를 사전에 제거 예) html,xml 태그\r\n",
        "  - 토큰화: 문서에 문장을 분리하는 문장 토큰화와 단어를 토큰으로 분리하는 단어 토큰화\r\n",
        "  - 필터링/스톱워드 제거/철자 수정: 분석에 큰 의미가 없는 단어를 제거\r\n",
        "  - Stemming Lemmatization: 문법적, 의미적으로 변화하는 단어의 웥ㄴ형을 찾음\r\n",
        "    - Stemming: 원형 단어로 변환 시 일반적인 방법을 적용하거나 더 단순화된 방법을 찾음\r\n",
        "    - Lemmatization: Stemming보다 정교하며 의미론적인 기반에서 단어의 원형을 찾음\r\n"
      ]
    },
    {
      "cell_type": "code",
      "metadata": {
        "id": "mMQqIpOu7GUZ"
      },
      "source": [
        ""
      ],
      "execution_count": null,
      "outputs": []
    },
    {
      "cell_type": "code",
      "metadata": {
        "id": "WR7fmJvJ7VQo"
      },
      "source": [
        ""
      ],
      "execution_count": null,
      "outputs": []
    }
  ]
}